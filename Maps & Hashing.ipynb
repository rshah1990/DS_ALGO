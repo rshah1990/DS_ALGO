{
 "cells": [
  {
   "cell_type": "markdown",
   "metadata": {},
   "source": [
    "### Map"
   ]
  },
  {
   "cell_type": "markdown",
   "metadata": {},
   "source": [
    "Map is nothing but key value pair, by looking at the key I can find value. maps is also called dictionary where word as key & defination as value."
   ]
  },
  {
   "cell_type": "markdown",
   "metadata": {},
   "source": [
    "### Sets"
   ]
  },
  {
   "cell_type": "markdown",
   "metadata": {},
   "source": [
    "set is another kind of data structure where only distinct values are allowed & order does not matter. its similar like bag of toys you can take one but not sure which one you are gettig"
   ]
  },
  {
   "cell_type": "markdown",
   "metadata": {},
   "source": [
    "### Maps"
   ]
  },
  {
   "cell_type": "markdown",
   "metadata": {},
   "source": [
    "maps is set based data strcture with key value pair where group of key is set"
   ]
  },
  {
   "cell_type": "markdown",
   "metadata": {},
   "source": [
    "### Python dictionaries"
   ]
  },
  {
   "cell_type": "code",
   "execution_count": 2,
   "metadata": {},
   "outputs": [
    {
     "name": "stdout",
     "output_type": "stream",
     "text": [
      "values\n"
     ]
    }
   ],
   "source": [
    "\"\"\"Time to play with Python dictionaries!\n",
    "You're going to work on a dictionary that\n",
    "stores cities by country and continent.\n",
    "One is done for you - the city of Mountain \n",
    "View is in the USA, which is in North America.\n",
    "\n",
    "You need to add the cities listed below by\n",
    "modifying the structure.\n",
    "Then, you should print out the values specified\n",
    "by looking them up in the structure.\n",
    "\n",
    "Cities to add:\n",
    "Bangalore (India, Asia)\n",
    "Atlanta (USA, North America)\n",
    "Cairo (Egypt, Africa)\n",
    "Shanghai (China, Asia)\"\"\"\n",
    "\n",
    "locations = {'North America': {'USA': ['Mountain View']}}\n",
    "locations['North America']['USA'].append(\"Atlanta\")\n",
    "locations['Asia'] ={'India':['Bangalore']}\n",
    "locations['Africa'] ={'Egypt':['Cairo']}\n",
    "locations['Asia']['China'] = [\"Shanghai\"]\n",
    "\n",
    "\"\"\"Print the following (using \"print\").\n",
    "1. A list of all cities in the USA in\n",
    "alphabetic order.\n",
    "2. All cities in Asia, in alphabetic\n",
    "order, next to the name of the country.\n",
    "In your output, label each answer with a number\n",
    "so it looks like this:\n",
    "1\n",
    "American City\n",
    "American City\n",
    "2\n",
    "Asian City - Country\n",
    "Asian City - Country\"\"\"\n",
    "print(\"values\")"
   ]
  },
  {
   "cell_type": "code",
   "execution_count": 3,
   "metadata": {},
   "outputs": [
    {
     "name": "stdout",
     "output_type": "stream",
     "text": [
      "Atlanta\n",
      "Mountain View\n"
     ]
    }
   ],
   "source": [
    "cities = (locations['North America']['USA'])\n",
    "cities.sort()\n",
    "for us_city in cities:\n",
    "    print(us_city)"
   ]
  },
  {
   "cell_type": "code",
   "execution_count": 15,
   "metadata": {},
   "outputs": [
    {
     "name": "stdout",
     "output_type": "stream",
     "text": [
      "India-Bangalore\n",
      "China-Shanghai\n"
     ]
    }
   ],
   "source": [
    "continent = locations['Asia']\n",
    "for key in continent.keys():\n",
    "    print(key + \"-\"+continent[key][0])"
   ]
  },
  {
   "cell_type": "markdown",
   "metadata": {},
   "source": [
    "### To lookup value in set of data"
   ]
  },
  {
   "cell_type": "markdown",
   "metadata": {},
   "source": [
    "- Until now to find data in the set of values we have to go through each values means time complexity is o(n)\n",
    "- binary serach helps to reduce that by divide & conquere method. time complexity o(logn)\n",
    "- Hash map will help to lookup for value in constant time o(1)"
   ]
  },
  {
   "cell_type": "markdown",
   "metadata": {},
   "source": [
    "### Hash Function"
   ]
  },
  {
   "cell_type": "markdown",
   "metadata": {},
   "source": [
    "<img src=\"1200px-Hash_table_4_1_1_0_0_1_0_LL.svg.png\" style=\"width:400px;height:400px\">"
   ]
  },
  {
   "cell_type": "markdown",
   "metadata": {},
   "source": [
    "- **Hash Function**:\n",
    "    1. Ideal hash function is f(x) = x that means hash value will be stored in the location such as 50 hash value will be stored at 50th location in hash table. disadvtange of this being very large array size & sparse hash table\n",
    "    2. F(x) = x is one-to-one function where as other functions such as f(x) = x % size is many-to-one function. due to this for many keys it may produce same hash value which leads to collision\n",
    "    \n",
    "    where size = size of hash table"
   ]
  },
  {
   "cell_type": "markdown",
   "metadata": {},
   "source": [
    "- **Collision** :\n",
    " 1. There are times when hash function will produce same hash value called collision\n",
    " 2. There are two ways to solve the collision\n",
    "      1. change the hash function to produce unique value,ie. change the size of the hash table. disadvtange of this is we will endup with too large hash table which can consume more memory but time complexity is o(1)\n",
    "      2. Use chaining: add linklist in the hash table. so we can store multiple values at the specific hash table location. this will reduce space complexity but increases time complexity by o(k) where k is number of element at given hash table location. for ex: at position 1 we have 10 values then we have to go through all 10 values to search for the value"
   ]
  },
  {
   "cell_type": "markdown",
   "metadata": {},
   "source": [
    "- **Load Factor :**\n",
    "    1. Load Factor = Number of Entries / Number of Buckets\n",
    "    <br>where number of bucket = hash table size <br>\n",
    "    number of entries = total number of keys\n",
    "    2. For ex: \n",
    "       <br>number of values = 10 </br>\n",
    "       <br>buckets = 1000</br>\n",
    "       <br>load factor = 0.01 </br>\n",
    "    3. purpose of load factor is to give sense how full the hash table is. is above example load factor is 0.01 indicates that majority of the buckets are empty.\n",
    "    4. so if load factor approaches to zero we tend to have more empty buckets rehashing is required. if load factor is above 1 is guaranteed to have collision\n",
    "    5. the closer our load factor is to 1 (meaning the number of values equals the number of buckets), the better it would be for us to rehash and add more buckets.\n",
    "    6. so what is an ideal value of load factor? there is no such ideal value. default value of load factor is 0.75"
   ]
  },
  {
   "cell_type": "markdown",
   "metadata": {},
   "source": [
    "- **String keys :** how to work with string values\n",
    "   1. Find ASCII value of the characters. python has built-in function to find ASCII value\n",
    "   2. combine ASCII value with formula to get unique value\n",
    "   3. If you have 30 or less words use first char ASCII value as hash value\n",
    "   4. Java implemntation of hashcode in string uses below formula. by using below formula we can gaurentee that each has value of string will be unique. however string with just 3 or 4 char has last hash value. Tradeoff is important\n",
    "   s[0]*31^(n-1) + s[1]*31^(n-2) + ... + s[n-1]\n",
    "   \n",
    "   ex:\n",
    "   </br> UDACITY \n",
    "   U = 85\n",
    "   D = 68</br>\n",
    "   \n",
    "   85 * 31^1 + 68 = 2703\n",
    "   \n",
    "   5. why 31? : The value 31 was chosen because it is an odd prime.If it were even and the multiplication overflowed, information would be lost, as multiplication by 2 is equivalent to shifting. The advantage of using a prime is less clear, but it is traditional. A nice property of 31 is that the multiplication can be replaced by a shift and a subtraction for better performance: 31 * i == (i << 5) - i. Modern VMs do this sort of optimization automatically.\n",
    "   6. Now more advance hash function has been desgined, 31 is convenient number \n",
    "   "
   ]
  },
  {
   "cell_type": "markdown",
   "metadata": {},
   "source": [
    "### Hashing Example"
   ]
  },
  {
   "cell_type": "markdown",
   "metadata": {},
   "source": [
    "-  formula we will use: \n",
    "<br> Hash Value = (ASCII Value of First Letter * 100) + ASCII Value of Second Letter </br>\n",
    "- use the Python function ord() to get the ASCII value of a letter, and chr() to get the letter associated with an ASCII value."
   ]
  },
  {
   "cell_type": "code",
   "execution_count": 1,
   "metadata": {},
   "outputs": [],
   "source": [
    "\"\"\"Write a HashTable class that stores strings\n",
    "in a hash table, where keys are calculated\n",
    "using the first two letters of the string.\"\"\"\n",
    "\n",
    "class HashTable(object):\n",
    "    def __init__(self):\n",
    "        self.table = [None]*10000\n",
    "\n",
    "    def store(self, string):\n",
    "        \"\"\"Input a string that's stored in \n",
    "        the table.\"\"\"\n",
    "        hash_val = self.calculate_hash_value(string)\n",
    "        self.table[hash_val] = string\n",
    "\n",
    "    def lookup(self, string):\n",
    "        \"\"\"Return the hash value if the\n",
    "        string is already in the table.\n",
    "        Return -1 otherwise.\"\"\"\n",
    "        hash_val = self.calculate_hash_value(string)\n",
    "        if self.table[hash_val]:\n",
    "            return hash_val\n",
    "        else:\n",
    "            return -1\n",
    "\n",
    "    def calculate_hash_value(self, string):\n",
    "        \"\"\"Helper function to calulate a\n",
    "        hash value from a string.\"\"\"\n",
    "        first_ch = ord(string[0])\n",
    "        second_ch = ord(string[1])\n",
    "        return  first_ch*100 +second_ch"
   ]
  },
  {
   "cell_type": "code",
   "execution_count": 2,
   "metadata": {},
   "outputs": [
    {
     "name": "stdout",
     "output_type": "stream",
     "text": [
      "8568\n",
      "-1\n",
      "8568\n",
      "8568\n"
     ]
    }
   ],
   "source": [
    "# Setup\n",
    "hash_table = HashTable()\n",
    "\n",
    "# Test calculate_hash_value\n",
    "# Should be 8568\n",
    "print(hash_table.calculate_hash_value('UDACITY'))\n",
    "\n",
    "# Test lookup edge case\n",
    "# Should be -1\n",
    "print(hash_table.lookup('UDACITY'))\n",
    "\n",
    "# Test store\n",
    "hash_table.store('UDACITY')\n",
    "# Should be 8568\n",
    "print(hash_table.lookup('UDACITY'))\n",
    "\n",
    "# Test store edge case\n",
    "hash_table.store('UDACIOUS')\n",
    "# Should be 8568\n",
    "print(hash_table.lookup('UDACIOUS'))"
   ]
  },
  {
   "cell_type": "code",
   "execution_count": null,
   "metadata": {},
   "outputs": [],
   "source": []
  }
 ],
 "metadata": {
  "kernelspec": {
   "display_name": "Python 3",
   "language": "python",
   "name": "python3"
  },
  "language_info": {
   "codemirror_mode": {
    "name": "ipython",
    "version": 3
   },
   "file_extension": ".py",
   "mimetype": "text/x-python",
   "name": "python",
   "nbconvert_exporter": "python",
   "pygments_lexer": "ipython3",
   "version": "3.7.3"
  },
  "toc": {
   "base_numbering": 1,
   "nav_menu": {},
   "number_sections": true,
   "sideBar": true,
   "skip_h1_title": false,
   "title_cell": "Table of Contents",
   "title_sidebar": "Contents",
   "toc_cell": false,
   "toc_position": {},
   "toc_section_display": true,
   "toc_window_display": false
  }
 },
 "nbformat": 4,
 "nbformat_minor": 2
}
