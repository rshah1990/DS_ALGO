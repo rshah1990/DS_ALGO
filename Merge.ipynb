{
 "cells": [
  {
   "cell_type": "code",
   "execution_count": 6,
   "metadata": {},
   "outputs": [],
   "source": [
    "a = [2,8,15,18]\n",
    "b = [5,9,12,17,19]"
   ]
  },
  {
   "cell_type": "code",
   "execution_count": 7,
   "metadata": {},
   "outputs": [],
   "source": [
    "def merge(a,b):\n",
    "    final=[]\n",
    "    len_a = len(a)\n",
    "    len_b = len(b)\n",
    "    i =j =k=0\n",
    "    while (i <len_a) & (j < len_b):\n",
    "        if a[i] < b[j]:\n",
    "            final.append(a[i])\n",
    "            i+=1\n",
    "        else:\n",
    "            final.append(b[j])\n",
    "            j+=1\n",
    "    if i < len_a:\n",
    "        final.append(a[i:])\n",
    "    if j < len_b:\n",
    "        final.append(b[j:])\n",
    "    return final\n",
    "        "
   ]
  },
  {
   "cell_type": "code",
   "execution_count": 8,
   "metadata": {},
   "outputs": [
    {
     "data": {
      "text/plain": [
       "[2, 5, 8, 9, 12, 15, 17, 18, [19]]"
      ]
     },
     "execution_count": 8,
     "metadata": {},
     "output_type": "execute_result"
    }
   ],
   "source": [
    "merge(a,b)"
   ]
  },
  {
   "cell_type": "code",
   "execution_count": null,
   "metadata": {},
   "outputs": [],
   "source": []
  }
 ],
 "metadata": {
  "kernelspec": {
   "display_name": "Python 3",
   "language": "python",
   "name": "python3"
  },
  "language_info": {
   "codemirror_mode": {
    "name": "ipython",
    "version": 3
   },
   "file_extension": ".py",
   "mimetype": "text/x-python",
   "name": "python",
   "nbconvert_exporter": "python",
   "pygments_lexer": "ipython3",
   "version": "3.7.3"
  }
 },
 "nbformat": 4,
 "nbformat_minor": 2
}
