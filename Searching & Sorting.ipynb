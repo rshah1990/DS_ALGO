{
 "cells": [
  {
   "cell_type": "markdown",
   "metadata": {},
   "source": [
    "### Binary Serach"
   ]
  },
  {
   "cell_type": "markdown",
   "metadata": {},
   "source": [
    "- Binary search follows divide and conquere rule. time complexity for that kind of problems is O(logn)\n",
    "- **Note:** for binary serach elements need to be in increasing order. "
   ]
  },
  {
   "cell_type": "code",
   "execution_count": 57,
   "metadata": {},
   "outputs": [],
   "source": [
    "\"\"\"You're going to write a binary search function.\n",
    "You should use an iterative approach - meaning\n",
    "using loops.\n",
    "Your function should take two inputs:\n",
    "a Python list to search through, and the value\n",
    "you're searching for.\n",
    "Assume the list only has distinct elements,\n",
    "meaning there are no repeated values, and \n",
    "elements are in a strictly increasing order.\n",
    "Return the index of value, or -1 if the value\n",
    "doesn't exist in the list.\"\"\"\n",
    "import math\n",
    "def binary_search(input_array, value):\n",
    "    \"\"\"Your code goes here.\"\"\"\n",
    "    # left & right index\n",
    "    l = 0\n",
    "    r = len(input_array) - 1\n",
    "    while l <= r : # condition to break the loop\n",
    "        # find middle value\n",
    "        mid = (l + r )// 2 # // indicates floor division\n",
    "        # if the middle value is equal to the value we are searching\n",
    "        if input_array[mid] == value:\n",
    "            return mid\n",
    "        elif input_array[mid] > value:\n",
    "            r = mid-1\n",
    "        else:\n",
    "            l= mid + 1\n",
    "    return -1"
   ]
  },
  {
   "cell_type": "code",
   "execution_count": 58,
   "metadata": {},
   "outputs": [],
   "source": [
    "test_list = [1,3,9,11,15,19,29,30]\n",
    "test_val1 = 25\n",
    "test_val2 = 15"
   ]
  },
  {
   "cell_type": "code",
   "execution_count": 59,
   "metadata": {},
   "outputs": [
    {
     "data": {
      "text/plain": [
       "-1"
      ]
     },
     "execution_count": 59,
     "metadata": {},
     "output_type": "execute_result"
    }
   ],
   "source": [
    "binary_search(test_list, test_val1)"
   ]
  },
  {
   "cell_type": "code",
   "execution_count": 60,
   "metadata": {},
   "outputs": [
    {
     "data": {
      "text/plain": [
       "4"
      ]
     },
     "execution_count": 60,
     "metadata": {},
     "output_type": "execute_result"
    }
   ],
   "source": [
    "binary_search(test_list, test_val2)"
   ]
  },
  {
   "cell_type": "markdown",
   "metadata": {},
   "source": [
    "### Recursion"
   ]
  },
  {
   "cell_type": "markdown",
   "metadata": {},
   "source": [
    "- Recursion is the process of defining something in terms of itself.\n",
    "- We will implement fibonacci series with recursion\n",
    "- Time complexity of this is 0(2^n)\n",
    "- This is not the optimized approach since same work has been done multiple times"
   ]
  },
  {
   "cell_type": "markdown",
   "metadata": {},
   "source": [
    "                                           fib(5)   \n",
    "                                     /                \\\n",
    "                               fib(4)                fib(3)   \n",
    "                             /        \\              /       \\ \n",
    "                         fib(3)      fib(2)         fib(2)   fib(1)\n",
    "                        /    \\       /    \\        /      \\\n",
    "                  fib(2)   fib(1)  fib(1) fib(0) fib(1) fib(0)\n",
    "                  /     \\\n",
    "                fib(1)   fib(0) "
   ]
  },
  {
   "cell_type": "code",
   "execution_count": 74,
   "metadata": {},
   "outputs": [],
   "source": [
    "def get_fib(position):\n",
    "    if position == 0:\n",
    "        return 0\n",
    "    elif position == 1:\n",
    "        return 1\n",
    "    elif position < 0:\n",
    "        return -1\n",
    "    else:\n",
    "        fib_no = get_fib(position-1) + get_fib(position-2)\n",
    "        return fib_no\n",
    "    return -1"
   ]
  },
  {
   "cell_type": "code",
   "execution_count": 75,
   "metadata": {},
   "outputs": [
    {
     "data": {
      "text/plain": [
       "-1"
      ]
     },
     "execution_count": 75,
     "metadata": {},
     "output_type": "execute_result"
    }
   ],
   "source": [
    "get_fib(-1)"
   ]
  },
  {
   "cell_type": "code",
   "execution_count": 76,
   "metadata": {},
   "outputs": [
    {
     "data": {
      "text/plain": [
       "0"
      ]
     },
     "execution_count": 76,
     "metadata": {},
     "output_type": "execute_result"
    }
   ],
   "source": [
    "get_fib(0)"
   ]
  },
  {
   "cell_type": "code",
   "execution_count": 77,
   "metadata": {},
   "outputs": [
    {
     "data": {
      "text/plain": [
       "34"
      ]
     },
     "execution_count": 77,
     "metadata": {},
     "output_type": "execute_result"
    }
   ],
   "source": [
    "# Test cases\n",
    "get_fib(9)"
   ]
  },
  {
   "cell_type": "code",
   "execution_count": 78,
   "metadata": {},
   "outputs": [
    {
     "data": {
      "text/plain": [
       "89"
      ]
     },
     "execution_count": 78,
     "metadata": {},
     "output_type": "execute_result"
    }
   ],
   "source": [
    "get_fib(11)"
   ]
  },
  {
   "cell_type": "markdown",
   "metadata": {},
   "source": [
    "### Bubble sorting"
   ]
  },
  {
   "cell_type": "markdown",
   "metadata": {},
   "source": [
    "- Bubble Sort is the simplest sorting algorithm that works by repeatedly swapping the adjacent elements if they are in wrong order.\n",
    "- Time complexity is 0(n^2)\n",
    "- Worst case & avg case is 0(n^2) where as best case is o(n) when array is already sorted\n",
    "- it is inplace sorting algo means space complexity is 0(1)"
   ]
  },
  {
   "cell_type": "code",
   "execution_count": 29,
   "metadata": {},
   "outputs": [],
   "source": [
    "def bubble_sort(array):\n",
    "    last = len(array)-1\n",
    "    counter = 0\n",
    "    for i in range(last):\n",
    "        print(array)\n",
    "        loop_taken = 0\n",
    "        for j in range(last-counter):\n",
    "            loop_taken +=1\n",
    "            if array[j] > array[j+1]:\n",
    "                array[j],array[j+1] = array[j+1],array[j]\n",
    "        counter +=1 # since we know it after first iteration last value will be max no need to compare next \n",
    "        #time, it will save us some time but time complexity will remain o(n^2)\n",
    "        print(loop_taken)"
   ]
  },
  {
   "cell_type": "code",
   "execution_count": 30,
   "metadata": {},
   "outputs": [
    {
     "name": "stdout",
     "output_type": "stream",
     "text": [
      "[21, 4, 1, 3, 9, 20, 25, 6, 21, 14]\n",
      "9\n",
      "[4, 1, 3, 9, 20, 21, 6, 21, 14, 25]\n",
      "8\n",
      "[1, 3, 4, 9, 20, 6, 21, 14, 21, 25]\n",
      "7\n",
      "[1, 3, 4, 9, 6, 20, 14, 21, 21, 25]\n",
      "6\n",
      "[1, 3, 4, 6, 9, 14, 20, 21, 21, 25]\n",
      "5\n",
      "[1, 3, 4, 6, 9, 14, 20, 21, 21, 25]\n",
      "4\n",
      "[1, 3, 4, 6, 9, 14, 20, 21, 21, 25]\n",
      "3\n",
      "[1, 3, 4, 6, 9, 14, 20, 21, 21, 25]\n",
      "2\n",
      "[1, 3, 4, 6, 9, 14, 20, 21, 21, 25]\n",
      "1\n"
     ]
    }
   ],
   "source": [
    "test = [21, 4, 1, 3, 9, 20, 25, 6, 21, 14]\n",
    "bubble_sort(test)"
   ]
  },
  {
   "cell_type": "markdown",
   "metadata": {},
   "source": [
    "### Quick sort"
   ]
  },
  {
   "cell_type": "markdown",
   "metadata": {},
   "source": [
    "- QuickSort is a Divide and Conquer algorithm. It picks an element as pivot and partitions the given array around the picked pivot.\n",
    "- In this method we will take last value as pivot, array all values less than pivot to the left & greater than to right\n",
    "- now we will sort left side & right side seperately "
   ]
  },
  {
   "cell_type": "code",
   "execution_count": 32,
   "metadata": {},
   "outputs": [],
   "source": [
    "def partition(array,l,r):\n",
    "    print(l,r)\n",
    "    pivot = array[r]\n",
    "    indx = l-1\n",
    "    for i in range(l,r):\n",
    "        if array[i] <= pivot:\n",
    "            indx +=1\n",
    "            array[indx],array[i] = array[i],array[indx]\n",
    "    array[indx+1],array[r] = array[r],array[indx+1]\n",
    "    return indx+1"
   ]
  },
  {
   "cell_type": "code",
   "execution_count": 33,
   "metadata": {},
   "outputs": [],
   "source": [
    "def quicksort(array,l,h):\n",
    "    if l < h:\n",
    "        middle_index = partition(test,l,h)\n",
    "        quicksort(test,l,middle_index-1)\n",
    "        quicksort(test,middle_index+1,h)"
   ]
  },
  {
   "cell_type": "code",
   "execution_count": 34,
   "metadata": {},
   "outputs": [],
   "source": [
    "test = [21, 4, 1, 3, 9, 20, 25, 6, 21, 14]"
   ]
  },
  {
   "cell_type": "code",
   "execution_count": 36,
   "metadata": {},
   "outputs": [
    {
     "name": "stdout",
     "output_type": "stream",
     "text": [
      "0 9\n",
      "0 4\n",
      "0 2\n",
      "6 9\n",
      "7 9\n",
      "7 8\n"
     ]
    }
   ],
   "source": [
    "quicksort(test,0,len(test)-1)"
   ]
  },
  {
   "cell_type": "code",
   "execution_count": 37,
   "metadata": {},
   "outputs": [
    {
     "data": {
      "text/plain": [
       "[1, 3, 4, 6, 9, 14, 20, 21, 21, 25]"
      ]
     },
     "execution_count": 37,
     "metadata": {},
     "output_type": "execute_result"
    }
   ],
   "source": [
    "test"
   ]
  },
  {
   "cell_type": "code",
   "execution_count": null,
   "metadata": {},
   "outputs": [],
   "source": []
  }
 ],
 "metadata": {
  "kernelspec": {
   "display_name": "Python 3",
   "language": "python",
   "name": "python3"
  },
  "language_info": {
   "codemirror_mode": {
    "name": "ipython",
    "version": 3
   },
   "file_extension": ".py",
   "mimetype": "text/x-python",
   "name": "python",
   "nbconvert_exporter": "python",
   "pygments_lexer": "ipython3",
   "version": "3.7.3"
  },
  "toc": {
   "base_numbering": 1,
   "nav_menu": {},
   "number_sections": true,
   "sideBar": true,
   "skip_h1_title": false,
   "title_cell": "Table of Contents",
   "title_sidebar": "Contents",
   "toc_cell": false,
   "toc_position": {},
   "toc_section_display": true,
   "toc_window_display": true
  }
 },
 "nbformat": 4,
 "nbformat_minor": 2
}
